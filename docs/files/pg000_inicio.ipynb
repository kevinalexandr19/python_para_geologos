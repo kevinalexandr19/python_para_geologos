{
 "cells": [
  {
   "cell_type": "markdown",
   "id": "2d8e1697-5c5e-4913-a1b0-33021d76bf20",
   "metadata": {
    "jp-MarkdownHeadingCollapsed": true
   },
   "source": [
    "<div align=\"center\">\n",
    "    <span style=\"font-size:30px\">\n",
    "        <strong>\n",
    "            <!-- Símbolo de Python -->\n",
    "            <img\n",
    "                src=\"https://cdn3.emoji.gg/emojis/1887_python.png\"\n",
    "                style=\"margin-bottom:-5px\"\n",
    "                width=\"30px\" \n",
    "                height=\"30px\"\n",
    "            >\n",
    "            <!-- Título -->\n",
    "            Python para Geólogos\n",
    "            <!-- Versión -->\n",
    "            <img \n",
    "                src=\"https://img.shields.io/github/release/kevinalexandr19/manual-python-geologia.svg?style=flat&label=&color=blue\"\n",
    "                style=\"margin-bottom:-2px\" \n",
    "                width=\"40px\"\n",
    "            >\n",
    "        </strong>\n",
    "    </span>\n",
    "    <br>\n",
    "    <span>\n",
    "        <!-- Github del proyecto -->\n",
    "        <a href=\"https://github.com/kevinalexandr19/manual-python-geologia\" target=\"_blank\">\n",
    "            <img src=\"https://img.shields.io/github/stars/kevinalexandr19/manual-python-geologia.svg?style=social&label=Github Repo\">\n",
    "        </a>\n",
    "        &nbsp;&nbsp;\n",
    "        <!-- Licencia -->\n",
    "        <img src=\"https://img.shields.io/github/license/kevinalexandr19/manual-python-geologia.svg?color=forestgreen\">\n",
    "        &nbsp;&nbsp;\n",
    "        <!-- Release date -->\n",
    "        <img src=\"https://img.shields.io/github/release-date/kevinalexandr19/manual-python-geologia?color=gold\">\n",
    "    </span>\n",
    "    <br>\n",
    "    <span>\n",
    "        <!-- Perfil de LinkedIn -->\n",
    "        <a target=\"_blank\" href=\"https://www.linkedin.com/in/kevin-alexander-gomez/\">\n",
    "            <img src=\"https://img.shields.io/badge/-Kevin Alexander Gomez-0072B1\">\n",
    "        </a>\n",
    "        &nbsp;&nbsp;\n",
    "        <!-- Perfil de Github -->\n",
    "        <a target=\"_blank\" href=\"https://github.com/kevinalexandr19\">\n",
    "            <img src=\"https://img.shields.io/github/followers/kevinalexandr19.svg?style=social&label=kevinalexandr19&maxAge=2592000\">\n",
    "        </a>\n",
    "    </span>\n",
    "    <br>\n",
    "</div>\n",
    "\n",
    "***"
   ]
  },
  {
   "attachments": {},
   "cell_type": "markdown",
   "id": "88d1867c-0e40-44ba-905a-ee94950f9fd2",
   "metadata": {
    "incorrectly_encoded_metadata": "deletable=true editable=true tags=[] jp-MarkdownHeadingCollapsed=true"
   },
   "source": [
    "## <span style=\"color:lightgreen\">Bienvenido al proyecto de Python para Geólogos !!! </span> 🌎📚\n",
    "\n",
    "Este proyecto académico ha sido creado con el objetivo de <span style=\"color:lightgreen\">facilitar el aprendizaje</span> de Python para estudiantes y profesionales en el campo de la Geología y disciplinas afines.\n",
    "\n",
    "A través de este recurso, pretendemos no solo enseñar Python, sino también fomentar el desarrollo de un <span style=\"color:lightgreen\">pensamiento algorítmico</span> aplicado a la resolución de problemas geológicos.\n",
    "\n",
    "> Esta versión del repositorio está basada en [JupyterLite](https://jupyterlite.readthedocs.io/en/stable/), lo que permite ejecutar código Python directamente en el navegador, sin necesidad de instalaciones previas, lo que facilita enormemente el aprendizaje para estudiantes de geociencias."
   ]
  },
  {
   "cell_type": "markdown",
   "id": "1ebf7be1-df50-43a4-9c1c-aa9d09f52061",
   "metadata": {},
   "source": [
    "***\n",
    "Para ejecutar un bloque de código, presiona las teclas `Shift + Enter`:"
   ]
  },
  {
   "cell_type": "code",
   "execution_count": null,
   "id": "61a2d059-c9ee-4e2b-92bd-e2e321dc1650",
   "metadata": {},
   "outputs": [],
   "source": [
    "2 + 2"
   ]
  },
  {
   "cell_type": "code",
   "execution_count": null,
   "id": "b8382707-542c-4485-88f0-ecbdffbf18e7",
   "metadata": {},
   "outputs": [],
   "source": [
    "5 * 5"
   ]
  },
  {
   "cell_type": "code",
   "execution_count": null,
   "id": "9a52b750-6ff4-449f-a955-5f4e81ae8549",
   "metadata": {},
   "outputs": [],
   "source": [
    "print(\"Hola Python!!!\")"
   ]
  },
  {
   "cell_type": "markdown",
   "id": "9fc6c43e-4d96-4d8f-951d-cd0d238112f4",
   "metadata": {
    "editable": true,
    "slideshow": {
     "slide_type": ""
    },
    "tags": []
   },
   "source": [
    "***\n",
    "## <span style=\"color:gold\">**Índice (elige un tema para aprender)**</span>\n",
    "Todos los cursos y tutoriales están disponibles dentro del repositorio como notebooks de Jupyter en formato `ipynb`.\n",
    "\n",
    "- <span style=\"color:gold\">Fundamentos de programación geológica</span>\n",
    "  - PG001 - Fundamentos de Python\n",
    "    - [Variables geológicas](pg001a_variables.ipynb)\n",
    "    - [¿Cómo mostrar un resultado en Python?](pg001b_print.ipynb)\n",
    "    - [Lógica computacional](pg001c_logica.ipynb)\n",
    "    - [Estructuras de datos](pg001d_estructuras.ipynb)\n",
    "    - [Automatización de tareas en Geología](pg001e_automatizacion.ipynb)\n",
    "    - [Programación orientada a objetos](pg001f_clases.ipynb)\n",
    "    - [Palabras reservadas en Python](pg001g_palabras.ipynb)\n",
    "  - PG002 - Librerías fundamentales de Python\n",
    "    - [Numpy](pg002a_numpy.ipynb)\n",
    "    - [Pandas](pg002b_pandas.ipynb)\n",
    "    - [Matplotlib](pg002c_matplotlib.ipynb)\n",
    "  - [PG099 - Ejercicios de programación geológica](pg099_ejercicios.ipynb)\n",
    "  - [PG099 - Ejercicios de programación geológica (Solucionario)](pg099_solucionario.ipynb)\n",
    "\n",
    "***\n",
    "### <span style=\"color:gold\">Referencias</span>\n",
    "- Barbieri, R., Garelik, C. (2022). [La matemática y las geociencias](https://editorial.unrn.edu.ar/index.php/catalogo/346/view_bl/62/lecturas-de-catedra/106/la-matematica-y-las-geociencias?tab=getmybooksTab&is_show_data=1). Editorial UNRN (pp. 15 y 136).\n",
    "- GEOROC (2023). [Geochemistry of Rocks of the Oceans and Continents](https://georoc.mpch-mainz.gwdg.de/georoc/Start.asp). Geoscience Centre Göttingen, Germany.\n",
    "- Petrelli, M. (2021). [Introduction to Python in Earth Science Data Analysis](https://link.springer.com/book/10.1007/978-3-030-78055-5). Repositorio en [Github](https://github.com/petrelli-m/python_earth_science_book).\n",
    "- Prieto Gómez, G. (2024). [Introducción a Python para geociencias](https://repositorio.unal.edu.co/handle/unal/85961). Universidad Nacional de Colombia, Sede Bogotá, Facultad de Ciencias.\n",
    "- Suarez-Burgoa, L. (2017). [Matematización de la geología](https://www.researchgate.net/publication/313464003_Matematizacion_de_la_geologia). Boletín de Ciencias de la Tierra 41 (pp. 30 - 38). Universidad Nacional de Colombia.\n",
    "- Trauth, M. (2022). [Python Recipes for Earth Sciences](https://link.springer.com/book/10.1007/978-3-031-07719-7). Institute of Geosciences, University of Potsdam, Potsdam, Brandenburg, Germany."
   ]
  },
  {
   "cell_type": "markdown",
   "id": "5b4ca469-6fbc-4e71-9741-676e56afdfdb",
   "metadata": {},
   "source": [
    "***"
   ]
  }
 ],
 "metadata": {
  "jupytext": {
   "formats": "ipynb,md"
  },
  "kernelspec": {
   "display_name": "Python 3 (ipykernel)",
   "language": "python",
   "name": "python3"
  },
  "language_info": {
   "codemirror_mode": {
    "name": "ipython",
    "version": 3
   },
   "file_extension": ".py",
   "mimetype": "text/x-python",
   "name": "python",
   "nbconvert_exporter": "python",
   "pygments_lexer": "ipython3",
   "version": "3.11.5"
  }
 },
 "nbformat": 4,
 "nbformat_minor": 5
}
